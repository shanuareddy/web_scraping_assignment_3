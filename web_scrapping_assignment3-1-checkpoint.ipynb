{
 "cells": [
  {
   "cell_type": "markdown",
   "id": "b9873963",
   "metadata": {},
   "source": [
    "3. Write a python program to access the search bar and search button on images.google.com and scrape 10\n",
    "images each for keywords ‘fruits’, ‘cars’ and ‘Machine Learning’, ‘Guitar’, ‘Cakes’."
   ]
  },
  {
   "cell_type": "code",
   "execution_count": 1,
   "id": "c4b04605",
   "metadata": {},
   "outputs": [],
   "source": [
    "#importing all the required libraries\n",
    "import pandas as pd\n",
    "import selenium\n",
    "import time\n",
    "from selenium import webdriver\n",
    "from selenium.common.exceptions import StaleElementReferenceException, NoSuchElementException\n",
    "import warnings\n",
    "warnings.filterwarnings(\"ignore\")\n",
    "from selenium.webdriver.common.keys import Keys\n"
   ]
  },
  {
   "cell_type": "code",
   "execution_count": 2,
   "id": "04a7de40",
   "metadata": {},
   "outputs": [],
   "source": [
    "driver=webdriver.Chrome(\"chromedriver.exe\")"
   ]
  },
  {
   "cell_type": "code",
   "execution_count": 3,
   "id": "6dfdab0e",
   "metadata": {},
   "outputs": [],
   "source": [
    "url=\"https://www.google.co.in/imghp?hl=en&ogbl\""
   ]
  },
  {
   "cell_type": "code",
   "execution_count": 4,
   "id": "ad492acb",
   "metadata": {},
   "outputs": [],
   "source": [
    "driver.get(url)"
   ]
  },
  {
   "cell_type": "code",
   "execution_count": 5,
   "id": "3c96525b",
   "metadata": {},
   "outputs": [],
   "source": [
    "fruits=[]\n",
    "cars=[]\n",
    "machine_learning=[]\n",
    "guitar=[]\n",
    "cakes=[]"
   ]
  },
  {
   "cell_type": "code",
   "execution_count": 6,
   "id": "7096ca80",
   "metadata": {},
   "outputs": [],
   "source": [
    "Name=[\"fruits\",\"cars\",\"machine_learning\",\"guitar\",\"cakes\"]"
   ]
  },
  {
   "cell_type": "code",
   "execution_count": 8,
   "id": "603fa0c1",
   "metadata": {},
   "outputs": [],
   "source": [
    "for i in Name:\n",
    "    if i=='fruits':\n",
    "        driver.find_element_by_xpath(\"//input[@class='gLFyf gsfi']\").send_keys(i) #entering the item for search\n",
    "        driver.find_element_by_xpath(\"//button[@class='Tg7LZd']\").click()"
   ]
  },
  {
   "cell_type": "code",
   "execution_count": 9,
   "id": "61f51f6b",
   "metadata": {},
   "outputs": [],
   "source": [
    "#creating the instance to scroll down the page for images to load.\n",
    "SCROLL_PAUSE_TIME = 2\n",
    "CYCLES = 10\n",
    "\n",
    "html = driver.find_element_by_tag_name('html')\n",
    "html.send_keys(Keys.PAGE_DOWN)  \n",
    "html.send_keys(Keys.PAGE_DOWN)  \n",
    "time.sleep(SCROLL_PAUSE_TIME * 3)\n",
    "\n",
    "for j in range(CYCLES):\n",
    "    html.send_keys(Keys.END)\n",
    "    time.sleep(SCROLL_PAUSE_TIME)"
   ]
  },
  {
   "cell_type": "code",
   "execution_count": 10,
   "id": "88cb9464",
   "metadata": {},
   "outputs": [],
   "source": [
    "#scrapping for fruits            \n",
    "fruit=driver.find_elements_by_xpath(\"//a[@class='VFACy kGQAp sMi44c lNHeqe WGvvNb']\")\n",
    "for k in fruit:\n",
    "    fruits.append(k.get_attribute('href'))\n",
    "html.send_keys(Keys.HOME)\n",
    "driver.find_element_by_xpath(\"//input[@class='og3lId']\").clear() #clearing the data in searc bar"
   ]
  },
  {
   "cell_type": "code",
   "execution_count": 11,
   "id": "be4209fe",
   "metadata": {},
   "outputs": [],
   "source": [
    "#scrapping for cars\n",
    "for i in Name:\n",
    "    if i=='cars':\n",
    "        driver.find_element_by_xpath(\"//input[@class='og3lId']\").send_keys(i)\n",
    "        driver.find_element_by_xpath(\"//button[@class='rCGXm']\").click()"
   ]
  },
  {
   "cell_type": "code",
   "execution_count": 12,
   "id": "01f97a55",
   "metadata": {},
   "outputs": [],
   "source": [
    "SCROLL_PAUSE_TIME = 2  \n",
    "CYCLES = 10\n",
    "\n",
    "html = driver.find_element_by_tag_name('html')\n",
    "html.send_keys(Keys.PAGE_DOWN)  \n",
    "html.send_keys(Keys.PAGE_DOWN)  \n",
    "time.sleep(SCROLL_PAUSE_TIME * 3)\n",
    "\n",
    "for j in range(CYCLES):\n",
    "    html.send_keys(Keys.END)\n",
    "    time.sleep(SCROLL_PAUSE_TIME)"
   ]
  },
  {
   "cell_type": "code",
   "execution_count": 13,
   "id": "7516fed4",
   "metadata": {},
   "outputs": [],
   "source": [
    "car=driver.find_elements_by_xpath(\"//a[@class='VFACy kGQAp sMi44c lNHeqe WGvvNb']\")\n",
    "for k in car:\n",
    "    cars.append(k.get_attribute('href'))\n",
    "html.send_keys(Keys.HOME)\n",
    "driver.find_element_by_xpath(\"//input[@class='og3lId']\").clear()"
   ]
  },
  {
   "cell_type": "code",
   "execution_count": 15,
   "id": "b04e18d1",
   "metadata": {},
   "outputs": [],
   "source": [
    "for i in Name:\n",
    "    \n",
    "    if i=='machine_learning':\n",
    "        driver.find_element_by_xpath(\"//input[@class='og3lId']\").send_keys(i)\n",
    "        driver.find_element_by_xpath(\"//button[@class='rCGXm']\").click()"
   ]
  },
  {
   "cell_type": "code",
   "execution_count": 16,
   "id": "90e71f39",
   "metadata": {},
   "outputs": [],
   "source": [
    "SCROLL_PAUSE_TIME = 2\n",
    "CYCLES = 10\n",
    "\n",
    "html = driver.find_element_by_tag_name('html')\n",
    "html.send_keys(Keys.PAGE_DOWN)  \n",
    "html.send_keys(Keys.PAGE_DOWN)  \n",
    "time.sleep(SCROLL_PAUSE_TIME * 3)\n",
    "\n",
    "for j in range(CYCLES):\n",
    "    html.send_keys(Keys.END)\n",
    "    time.sleep(SCROLL_PAUSE_TIME)"
   ]
  },
  {
   "cell_type": "code",
   "execution_count": 17,
   "id": "068eed0b",
   "metadata": {},
   "outputs": [],
   "source": [
    "mac=driver.find_elements_by_xpath(\"//a[@class='VFACy kGQAp sMi44c lNHeqe WGvvNb']\")\n",
    "for k in mac:\n",
    "    machine_learning.append(k.get_attribute('href'))\n",
    "html.send_keys(Keys.HOME)\n",
    "driver.find_element_by_xpath(\"//input[@class='og3lId']\").clear()    "
   ]
  },
  {
   "cell_type": "code",
   "execution_count": 18,
   "id": "6155c227",
   "metadata": {},
   "outputs": [],
   "source": [
    "for i in Name:\n",
    "    if i=='guitar':\n",
    "        driver.find_element_by_xpath(\"//input[@class='og3lId']\").send_keys(i)\n",
    "        driver.find_element_by_xpath(\"//button[@class='rCGXm']\").click()"
   ]
  },
  {
   "cell_type": "code",
   "execution_count": 19,
   "id": "3f2b829d",
   "metadata": {},
   "outputs": [],
   "source": [
    "SCROLL_PAUSE_TIME = 2\n",
    "CYCLES = 10\n",
    "\n",
    "html = driver.find_element_by_tag_name('html')\n",
    "html.send_keys(Keys.PAGE_DOWN)  \n",
    "html.send_keys(Keys.PAGE_DOWN)  \n",
    "time.sleep(SCROLL_PAUSE_TIME * 3)\n",
    "\n",
    "for j in range(CYCLES):\n",
    "    html.send_keys(Keys.END)\n",
    "    time.sleep(SCROLL_PAUSE_TIME)\n",
    "tar=driver.find_elements_by_xpath(\"//a[@class='VFACy kGQAp sMi44c lNHeqe WGvvNb']\")\n",
    "for k in tar:\n",
    "    guitar.append(k.get_attribute('href'))"
   ]
  },
  {
   "cell_type": "code",
   "execution_count": 26,
   "id": "2cab40f9",
   "metadata": {},
   "outputs": [
    {
     "ename": "ValueError",
     "evalue": "All arrays must be of the same length",
     "output_type": "error",
     "traceback": [
      "\u001b[1;31m---------------------------------------------------------------------------\u001b[0m",
      "\u001b[1;31mValueError\u001b[0m                                Traceback (most recent call last)",
      "\u001b[1;32m~\\AppData\\Local\\Temp/ipykernel_10024/3748692328.py\u001b[0m in \u001b[0;36m<module>\u001b[1;34m\u001b[0m\n\u001b[0;32m      1\u001b[0m \u001b[1;31m# creating the Dataframe\u001b[0m\u001b[1;33m\u001b[0m\u001b[1;33m\u001b[0m\u001b[0m\n\u001b[0;32m      2\u001b[0m \u001b[0mdf\u001b[0m\u001b[1;33m=\u001b[0m\u001b[1;33m{\u001b[0m\u001b[1;34m'Fruits'\u001b[0m\u001b[1;33m:\u001b[0m\u001b[0mfruits\u001b[0m\u001b[1;33m,\u001b[0m\u001b[1;34m'cars'\u001b[0m\u001b[1;33m:\u001b[0m\u001b[0mcars\u001b[0m\u001b[1;33m,\u001b[0m\u001b[1;34m'machine_learning'\u001b[0m\u001b[1;33m:\u001b[0m\u001b[0mmachine_learning\u001b[0m\u001b[1;33m,\u001b[0m\u001b[1;34m'guitar'\u001b[0m\u001b[1;33m:\u001b[0m\u001b[0mguitar\u001b[0m\u001b[1;33m}\u001b[0m\u001b[1;33m\u001b[0m\u001b[1;33m\u001b[0m\u001b[0m\n\u001b[1;32m----> 3\u001b[1;33m \u001b[0mdf\u001b[0m\u001b[1;33m=\u001b[0m\u001b[0mpd\u001b[0m\u001b[1;33m.\u001b[0m\u001b[0mDataFrame\u001b[0m\u001b[1;33m(\u001b[0m\u001b[0mdata\u001b[0m\u001b[1;33m=\u001b[0m\u001b[0mdf\u001b[0m\u001b[1;33m)\u001b[0m\u001b[1;33m\u001b[0m\u001b[1;33m\u001b[0m\u001b[0m\n\u001b[0m\u001b[0;32m      4\u001b[0m \u001b[0mdf\u001b[0m\u001b[1;33m[\u001b[0m\u001b[1;33m:\u001b[0m\u001b[1;36m45\u001b[0m\u001b[1;33m]\u001b[0m\u001b[1;33m\u001b[0m\u001b[1;33m\u001b[0m\u001b[0m\n",
      "\u001b[1;32m~\\anaconda3\\lib\\site-packages\\pandas\\core\\frame.py\u001b[0m in \u001b[0;36m__init__\u001b[1;34m(self, data, index, columns, dtype, copy)\u001b[0m\n\u001b[0;32m    612\u001b[0m         \u001b[1;32melif\u001b[0m \u001b[0misinstance\u001b[0m\u001b[1;33m(\u001b[0m\u001b[0mdata\u001b[0m\u001b[1;33m,\u001b[0m \u001b[0mdict\u001b[0m\u001b[1;33m)\u001b[0m\u001b[1;33m:\u001b[0m\u001b[1;33m\u001b[0m\u001b[1;33m\u001b[0m\u001b[0m\n\u001b[0;32m    613\u001b[0m             \u001b[1;31m# GH#38939 de facto copy defaults to False only in non-dict cases\u001b[0m\u001b[1;33m\u001b[0m\u001b[1;33m\u001b[0m\u001b[0m\n\u001b[1;32m--> 614\u001b[1;33m             \u001b[0mmgr\u001b[0m \u001b[1;33m=\u001b[0m \u001b[0mdict_to_mgr\u001b[0m\u001b[1;33m(\u001b[0m\u001b[0mdata\u001b[0m\u001b[1;33m,\u001b[0m \u001b[0mindex\u001b[0m\u001b[1;33m,\u001b[0m \u001b[0mcolumns\u001b[0m\u001b[1;33m,\u001b[0m \u001b[0mdtype\u001b[0m\u001b[1;33m=\u001b[0m\u001b[0mdtype\u001b[0m\u001b[1;33m,\u001b[0m \u001b[0mcopy\u001b[0m\u001b[1;33m=\u001b[0m\u001b[0mcopy\u001b[0m\u001b[1;33m,\u001b[0m \u001b[0mtyp\u001b[0m\u001b[1;33m=\u001b[0m\u001b[0mmanager\u001b[0m\u001b[1;33m)\u001b[0m\u001b[1;33m\u001b[0m\u001b[1;33m\u001b[0m\u001b[0m\n\u001b[0m\u001b[0;32m    615\u001b[0m         \u001b[1;32melif\u001b[0m \u001b[0misinstance\u001b[0m\u001b[1;33m(\u001b[0m\u001b[0mdata\u001b[0m\u001b[1;33m,\u001b[0m \u001b[0mma\u001b[0m\u001b[1;33m.\u001b[0m\u001b[0mMaskedArray\u001b[0m\u001b[1;33m)\u001b[0m\u001b[1;33m:\u001b[0m\u001b[1;33m\u001b[0m\u001b[1;33m\u001b[0m\u001b[0m\n\u001b[0;32m    616\u001b[0m             \u001b[1;32mimport\u001b[0m \u001b[0mnumpy\u001b[0m\u001b[1;33m.\u001b[0m\u001b[0mma\u001b[0m\u001b[1;33m.\u001b[0m\u001b[0mmrecords\u001b[0m \u001b[1;32mas\u001b[0m \u001b[0mmrecords\u001b[0m\u001b[1;33m\u001b[0m\u001b[1;33m\u001b[0m\u001b[0m\n",
      "\u001b[1;32m~\\anaconda3\\lib\\site-packages\\pandas\\core\\internals\\construction.py\u001b[0m in \u001b[0;36mdict_to_mgr\u001b[1;34m(data, index, columns, dtype, typ, copy)\u001b[0m\n\u001b[0;32m    462\u001b[0m         \u001b[1;31m# TODO: can we get rid of the dt64tz special case above?\u001b[0m\u001b[1;33m\u001b[0m\u001b[1;33m\u001b[0m\u001b[0m\n\u001b[0;32m    463\u001b[0m \u001b[1;33m\u001b[0m\u001b[0m\n\u001b[1;32m--> 464\u001b[1;33m     return arrays_to_mgr(\n\u001b[0m\u001b[0;32m    465\u001b[0m         \u001b[0marrays\u001b[0m\u001b[1;33m,\u001b[0m \u001b[0mdata_names\u001b[0m\u001b[1;33m,\u001b[0m \u001b[0mindex\u001b[0m\u001b[1;33m,\u001b[0m \u001b[0mcolumns\u001b[0m\u001b[1;33m,\u001b[0m \u001b[0mdtype\u001b[0m\u001b[1;33m=\u001b[0m\u001b[0mdtype\u001b[0m\u001b[1;33m,\u001b[0m \u001b[0mtyp\u001b[0m\u001b[1;33m=\u001b[0m\u001b[0mtyp\u001b[0m\u001b[1;33m,\u001b[0m \u001b[0mconsolidate\u001b[0m\u001b[1;33m=\u001b[0m\u001b[0mcopy\u001b[0m\u001b[1;33m\u001b[0m\u001b[1;33m\u001b[0m\u001b[0m\n\u001b[0;32m    466\u001b[0m     )\n",
      "\u001b[1;32m~\\anaconda3\\lib\\site-packages\\pandas\\core\\internals\\construction.py\u001b[0m in \u001b[0;36marrays_to_mgr\u001b[1;34m(arrays, arr_names, index, columns, dtype, verify_integrity, typ, consolidate)\u001b[0m\n\u001b[0;32m    117\u001b[0m         \u001b[1;31m# figure out the index, if necessary\u001b[0m\u001b[1;33m\u001b[0m\u001b[1;33m\u001b[0m\u001b[0m\n\u001b[0;32m    118\u001b[0m         \u001b[1;32mif\u001b[0m \u001b[0mindex\u001b[0m \u001b[1;32mis\u001b[0m \u001b[1;32mNone\u001b[0m\u001b[1;33m:\u001b[0m\u001b[1;33m\u001b[0m\u001b[1;33m\u001b[0m\u001b[0m\n\u001b[1;32m--> 119\u001b[1;33m             \u001b[0mindex\u001b[0m \u001b[1;33m=\u001b[0m \u001b[0m_extract_index\u001b[0m\u001b[1;33m(\u001b[0m\u001b[0marrays\u001b[0m\u001b[1;33m)\u001b[0m\u001b[1;33m\u001b[0m\u001b[1;33m\u001b[0m\u001b[0m\n\u001b[0m\u001b[0;32m    120\u001b[0m         \u001b[1;32melse\u001b[0m\u001b[1;33m:\u001b[0m\u001b[1;33m\u001b[0m\u001b[1;33m\u001b[0m\u001b[0m\n\u001b[0;32m    121\u001b[0m             \u001b[0mindex\u001b[0m \u001b[1;33m=\u001b[0m \u001b[0mensure_index\u001b[0m\u001b[1;33m(\u001b[0m\u001b[0mindex\u001b[0m\u001b[1;33m)\u001b[0m\u001b[1;33m\u001b[0m\u001b[1;33m\u001b[0m\u001b[0m\n",
      "\u001b[1;32m~\\anaconda3\\lib\\site-packages\\pandas\\core\\internals\\construction.py\u001b[0m in \u001b[0;36m_extract_index\u001b[1;34m(data)\u001b[0m\n\u001b[0;32m    633\u001b[0m             \u001b[0mlengths\u001b[0m \u001b[1;33m=\u001b[0m \u001b[0mlist\u001b[0m\u001b[1;33m(\u001b[0m\u001b[0mset\u001b[0m\u001b[1;33m(\u001b[0m\u001b[0mraw_lengths\u001b[0m\u001b[1;33m)\u001b[0m\u001b[1;33m)\u001b[0m\u001b[1;33m\u001b[0m\u001b[1;33m\u001b[0m\u001b[0m\n\u001b[0;32m    634\u001b[0m             \u001b[1;32mif\u001b[0m \u001b[0mlen\u001b[0m\u001b[1;33m(\u001b[0m\u001b[0mlengths\u001b[0m\u001b[1;33m)\u001b[0m \u001b[1;33m>\u001b[0m \u001b[1;36m1\u001b[0m\u001b[1;33m:\u001b[0m\u001b[1;33m\u001b[0m\u001b[1;33m\u001b[0m\u001b[0m\n\u001b[1;32m--> 635\u001b[1;33m                 \u001b[1;32mraise\u001b[0m \u001b[0mValueError\u001b[0m\u001b[1;33m(\u001b[0m\u001b[1;34m\"All arrays must be of the same length\"\u001b[0m\u001b[1;33m)\u001b[0m\u001b[1;33m\u001b[0m\u001b[1;33m\u001b[0m\u001b[0m\n\u001b[0m\u001b[0;32m    636\u001b[0m \u001b[1;33m\u001b[0m\u001b[0m\n\u001b[0;32m    637\u001b[0m             \u001b[1;32mif\u001b[0m \u001b[0mhave_dicts\u001b[0m\u001b[1;33m:\u001b[0m\u001b[1;33m\u001b[0m\u001b[1;33m\u001b[0m\u001b[0m\n",
      "\u001b[1;31mValueError\u001b[0m: All arrays must be of the same length"
     ]
    }
   ],
   "source": [
    "# creating the Dataframe\n",
    "df={'Fruits':fruits,'cars':cars,'machine_learning':machine_learning,'guitar':guitar}\n",
    "df=pd.DataFrame(data=df)\n",
    "df[:45]"
   ]
  },
  {
   "cell_type": "code",
   "execution_count": 21,
   "id": "3f99749d",
   "metadata": {},
   "outputs": [
    {
     "data": {
      "text/plain": [
       "400"
      ]
     },
     "execution_count": 21,
     "metadata": {},
     "output_type": "execute_result"
    }
   ],
   "source": [
    "len(fruits)"
   ]
  },
  {
   "cell_type": "code",
   "execution_count": 22,
   "id": "24ca64dd",
   "metadata": {},
   "outputs": [
    {
     "data": {
      "text/plain": [
       "400"
      ]
     },
     "execution_count": 22,
     "metadata": {},
     "output_type": "execute_result"
    }
   ],
   "source": [
    "len(cars)"
   ]
  },
  {
   "cell_type": "code",
   "execution_count": 23,
   "id": "cf175a7b",
   "metadata": {},
   "outputs": [
    {
     "data": {
      "text/plain": [
       "48"
      ]
     },
     "execution_count": 23,
     "metadata": {},
     "output_type": "execute_result"
    }
   ],
   "source": [
    "len(machine_learning)"
   ]
  },
  {
   "cell_type": "code",
   "execution_count": 24,
   "id": "69ab2a40",
   "metadata": {},
   "outputs": [
    {
     "data": {
      "text/plain": [
       "48"
      ]
     },
     "execution_count": 24,
     "metadata": {},
     "output_type": "execute_result"
    }
   ],
   "source": [
    "len(guitar)"
   ]
  },
  {
   "cell_type": "code",
   "execution_count": null,
   "id": "f27647cf",
   "metadata": {},
   "outputs": [],
   "source": []
  }
 ],
 "metadata": {
  "kernelspec": {
   "display_name": "Python 3 (ipykernel)",
   "language": "python",
   "name": "python3"
  },
  "language_info": {
   "codemirror_mode": {
    "name": "ipython",
    "version": 3
   },
   "file_extension": ".py",
   "mimetype": "text/x-python",
   "name": "python",
   "nbconvert_exporter": "python",
   "pygments_lexer": "ipython3",
   "version": "3.9.7"
  }
 },
 "nbformat": 4,
 "nbformat_minor": 5
}
